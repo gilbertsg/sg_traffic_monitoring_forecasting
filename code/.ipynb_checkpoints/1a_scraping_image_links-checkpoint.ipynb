{
 "cells": [
  {
   "cell_type": "markdown",
   "id": "cf6cba93-bfc8-43a3-8ae5-89444f502ecf",
   "metadata": {},
   "source": [
    "# Introduction"
   ]
  },
  {
   "cell_type": "markdown",
   "id": "669d22e4-b60d-40f1-ad51-a902b5ab8c24",
   "metadata": {
    "tags": []
   },
   "source": [
    "## Background"
   ]
  },
  {
   "cell_type": "markdown",
   "id": "d8d06521-705e-4920-aee1-6de6d06e63aa",
   "metadata": {},
   "source": [
    "There are nearly 1 million motor vehicles [[1]](https://data.gov.sg/dataset/annual-motor-vehicle-population-by-vehicle-type?view_id=6aca1157-ea79-4e39-9e58-3e5313a9a715&resource_id=dec53407-9f97-47b8-ba89-b2070569a09e) on Singapore's road network of more than 9,500 lane-kilometers which constitutes around 12% of the total Singapore Land Area [[2]](https://www.lta.gov.sg/content/ltagov/en/who_we_are/our_work/road.html#:~:text=Singapore's%20road%20network%20connects%20all,km%20of%20roads%20and%20expressways). Despite the high proportion of land being used for roads, Singapore still ranks 88th out of 405 cities in the World with the highest traffic congestion in peak hours [[3]](https://www.tomtom.com/traffic-index/ranking/). This puts Singapore a couple of spots above Sydney (rank 97) and not too far below Bangkok (rank 74). Singapore roads have an average congestion level of 29%[[4]](https://www.tomtom.com/traffic-index/singapore-traffic/#), which is defined as the ratio of how much longer drivers spend on their commute during peak hours compared to non-peak hours. Singaporean commuters on avarage wastes about 105 additional hours per year when driving in rush hour.\n",
    "\n",
    "Therefore, it is critical for drivers and commuters to be able to monitor the current traffic conditions, as well as get a prediction on when the conditions are ideal for travel. This will then enable road users to decide on the best time and route for their travel. "
   ]
  },
  {
   "cell_type": "markdown",
   "id": "394444a1-aecc-4b0a-82ca-c5cac6384367",
   "metadata": {
    "tags": []
   },
   "source": [
    "## Existing Solutions"
   ]
  },
  {
   "cell_type": "markdown",
   "id": "328a396a-9a41-4726-a720-cd61516087bf",
   "metadata": {
    "tags": []
   },
   "source": [
    "#### Static traffic images\n",
    "Road users typically use various traffic monitoring apps and websites in order to plan their travel and attempt to beat the traffic. To assess the current traffic conditions, commuters usually rely on several websites which display a static image of traffic cameras (e.g.: [[5]](https://onemotoring.lta.gov.sg/content/onemotoring/home/driving/traffic_information/traffic-cameras/bke.html#trafficCameras), [[6]](https://www.motorist.sg/traffic-cameras), [[7]](https://www.trafficiti.com/)) which are obtained from the same traffic cameras provided by the Land Transport Authority (LTA) Datamall API [[8]](https://datamall.lta.gov.sg/content/datamall/en/dynamic-data.html). \n",
    "\n",
    "The static images provided by these websites means that users would have to estimate the amount of cars present in the image and guess the curent traffic conditions based on a single static image. Furthermore, these websites typically do not provide historical/previous traffic images, making it difficult for users to assess the current traffic condition in the context of the overall traffic condition. Ultimately, since neither vehicle count nor historical data is provided, users would not be able to obtain a reasonable forecast of traffic conditions using these websites\n",
    "\n",
    "![image](../images/notebook_images/other_traffic_images_website.jpeg)\n",
    "\n",
    "#### Crowd-sourced traffic density estimations\n",
    "An alternative for the traffic images websites are the apps and websites which provides crowd-sourced traffic density estimations, such as Google Maps or Apple Maps. Other than being used for navigation purposes, some of these apps are able to display the current traffic conditions based on crowd-sourced informations (i.e.: getting data from fellow app users). \n",
    "\n",
    "However, these type of crowd-sourced information could not achieve the level of accuracy of actual sensors and traffic measurements. Furthermore, they are vulnerable to malicious attacks such as when someone used 99 iPhones to create a cluster of \"traffic jams\" in Berlin's Road [[9]](https://www.youtube.com/watch?v=k5eL_al_m7Q).\n",
    "\n",
    "With a recent update, Google maps is now able to display 'typical' traffic conditions based on historical crowd-sourced traffic data. This provides users a very basic estimate/forecast of future traffic conditions based on the average weekly traffic information. However, as we shall discover later in this project, the so-called 'naive seasonal' prediction based on past week's data does not provide the best accuracy compared to other more sophisticated models.\n",
    "\n",
    "Finally, the level of detail / granularity of information for the traffic condition provided by Google Maps is highly lacking, by only providing users with a 4-level color-coded information regarding the traffic condition, going from low to high. While this level of granularity should be sufficient for road users who are planning their commute, it might not be sufficient for the purposes of a long-term traffic monitoring / survey for government agencies for the purposes of transportation planning. \n",
    "\n",
    "![image](../images/notebook_images/other_traffic_images_website_gmaps.jpeg)\n",
    "\n",
    "#### Traffic monitoring and survey for government\n",
    "Government agencies typically employ a multitude of sensors and techniques in order to conduct traffic counting for monitoring and survey purposes. These techniques range from manual counting or using radar-based sensors, which are highly labour-intensive or have high equipment cost, respectively. As such, using traffic counts from traffic cameras could be a highly efficient solution with relatively low costs compared to the alternative, especially for preliminary survey prior to employing other more accurate but more costly solutions.\n",
    "\n",
    "![image](../images/notebook_images/radar_traffic_monitoring.jpg)"
   ]
  },
  {
   "cell_type": "markdown",
   "id": "9637977b-f2af-4845-a490-4d859767c779",
   "metadata": {},
   "source": [
    "## Problem Statement"
   ]
  },
  {
   "cell_type": "markdown",
   "id": "491ed965-a3d7-4e76-94c3-711e8620361a",
   "metadata": {},
   "source": [
    "The goal of this project will be to develop an app for **detecting, monitoring, and predicting the vehicle count** in various stretches of highways in Singapore. This will enable users to rapidly assess the **historical, current, and future traffic condition** in order to make their commuting decision.\n",
    "\n",
    "The same app can also be deployed by government agencies for the purpose of **vehicle count monitoring** over a period of time, in order to drive regulatory decisions with regards to transporatation planning in Singapore. "
   ]
  },
  {
   "cell_type": "markdown",
   "id": "3c48c588-b9c2-4940-884b-059135593964",
   "metadata": {},
   "source": [
    "## Objectives"
   ]
  },
  {
   "cell_type": "markdown",
   "id": "dd131875-7a89-43bd-b675-afde706f9c45",
   "metadata": {},
   "source": [
    "The goal of this project are as follows:\n",
    "- Apply computer vision and deep learning techniques to extract real-time traffic count from traffic camera images\n",
    "- Apply time series analysis and modelling to obtain prediction / forecast of future traffic count\n",
    "- Build a data pipeline for downloading, traffic counting, and traffic predictions for various camera instances in Singapore's highway\n",
    "- Architect a database solution for storing processed and unprocessed traffic camera images, as well as traffic counts and traffic forecasts \n",
    "- Develop a traffic monitoring app for traffic monitoring, displaying historical data as well as future predictions of traffic conditions"
   ]
  },
  {
   "cell_type": "markdown",
   "id": "87a19d43-ff6a-4048-8093-2b258f21e933",
   "metadata": {},
   "source": [
    "# Project Summary"
   ]
  },
  {
   "cell_type": "markdown",
   "id": "4c77d57d-65ed-4956-9afa-1f1fec08e2e1",
   "metadata": {},
   "source": [
    "The various steps taken in this project is as follows:\n",
    "1. Scraping of image links and traffic images from data.gov.sg traffic images API (notebooks 1a, 1b) [get links]()\n",
    "2. Vehicle detection and counting using a pre-trained YOLOv7 model using OpenCV2 (notebook 2)\n",
    "    - Object detection done using a pre-trained darknet implementation of YOLOv7 [weights location]()\n",
    "    - Image masking is done to isolate the region of interest in the traffic images\n",
    "3. Time series analysis on the vehicle counts obtained from the previous step (notebook 3a)\n",
    "    - Explore data aggregation methods (i.e.: aggregating traffic count by 30 minutes)\n",
    "    - Exploratory data analysis on the seasonal patterns of vehicle counts of the different cameras\n",
    "    - Obtained descriptive statistics regarding the vehicle counts of the different cameras\n",
    "4. Time series modelling for generating predictions and forecast of future vehicle counts (notebook 3b)\n",
    "    - Investigate the model that yielded the best prediction for a 7-day prediction window\n",
    "    - Assess the accuracy of the model with and without retraining\n",
    "    - Assess the accuracy of the model with different prediction windows\n",
    "5. Develop and productionize the code required for continuous download and detection of traffic images (notebook 4a)\n",
    "6. Develop the front-end application for displaying the traffic count information and forecasts (notebook 4b)"
   ]
  },
  {
   "cell_type": "markdown",
   "id": "17ae9e93-daf6-466e-86bf-d365ae1a5eb5",
   "metadata": {},
   "source": [
    "# Key Findings"
   ]
  },
  {
   "cell_type": "code",
   "execution_count": null,
   "id": "e177be93-7df7-4e4e-b6e1-4e866613db92",
   "metadata": {},
   "outputs": [],
   "source": []
  },
  {
   "cell_type": "markdown",
   "id": "09505f34-3828-41ff-8e90-0cfba0315190",
   "metadata": {},
   "source": [
    "# Future Works"
   ]
  },
  {
   "cell_type": "code",
   "execution_count": null,
   "id": "c1247b37-df95-4a34-a88c-c908c4edb64a",
   "metadata": {},
   "outputs": [],
   "source": []
  },
  {
   "cell_type": "markdown",
   "id": "5cfcd7d5-9e40-4127-a6e2-b465514b8bf8",
   "metadata": {},
   "source": [
    "# Process Overview for Scraping Images"
   ]
  },
  {
   "cell_type": "markdown",
   "id": "1caa859b-6d1b-430f-9455-0424c1ce4e23",
   "metadata": {},
   "source": [
    "The first step for in this traffic analysis project is to scrape the traffic images from LTA. The traffic images are provided by LTA through the [Datamall API](https://datamall.lta.gov.sg/content/datamall/en/dynamic-data.html):\n",
    "- The API returns traffic images from 87 different locations in Singapore's expressways\n",
    "- The images are updated every 1 to 5 minutes\n",
    "- These images are retraived by data.gov.sg, and wrapped in another API\n",
    "- We will be using the data.gov.sg API for the purposes of this project\n",
    "\n",
    "The process for interacting with the data.gov.sg [Traffic Images API](https://data.gov.sg/dataset/traffic-images) is as follows:\n",
    "- Provide a datetime call to the API\n",
    "- The API will retrieve the latest available data at that moment in time, which will contain the following:\n",
    "    - image metadata (image dimensions, camera longitude & latitude)\n",
    "    - datetime of acquisition\n",
    "    - a static link to the traffic image\n",
    "    - an MD5 hash\n",
    "    \n",
    "Therefore, to obtain the traffic images, we would first need to use the data.gov.sg traffic images API to obtain the links to the images.\n",
    "\n",
    "For the purposes of this study, we will be scraping traffic images from selected cameras for the entire month of October."
   ]
  },
  {
   "cell_type": "markdown",
   "id": "408ce07f-f05e-4805-b485-bb2f080992fa",
   "metadata": {},
   "source": [
    "# Imports"
   ]
  },
  {
   "cell_type": "code",
   "execution_count": 1,
   "id": "e8f3af43-d248-4803-a79d-3b0bab8bbbc5",
   "metadata": {},
   "outputs": [],
   "source": [
    "import datetime\n",
    "import pytz\n",
    "import requests\n",
    "import ast\n",
    "import numpy as np\n",
    "import urllib \n",
    "import shutil\n",
    "import matplotlib.pyplot as plt\n",
    "import pandas as pd\n",
    "import os\n",
    "from tqdm import tqdm"
   ]
  },
  {
   "cell_type": "markdown",
   "id": "988cb10a-8a98-40b0-9d8f-54cdeaab0734",
   "metadata": {},
   "source": [
    "# Function Definition for Image Link Scraping"
   ]
  },
  {
   "cell_type": "markdown",
   "id": "e01f5996-5938-46a5-ad67-ad9831a8086f",
   "metadata": {},
   "source": [
    "First, we will need to define a couple of functions to interact with the data.gov traffic images API, and then transform the information returned to a dataframe"
   ]
  },
  {
   "cell_type": "code",
   "execution_count": 2,
   "id": "8027ac65-e655-4691-9b74-ed5d51a93986",
   "metadata": {},
   "outputs": [],
   "source": [
    "def convert_to_dataframe(input_list):\n",
    "    '''\n",
    "    This function converts the output from the API (a list of dictionaries) into a pandas dataframe\n",
    "    '''\n",
    "    \n",
    "    # casting the input list as a dataframe\n",
    "    output = pd.DataFrame(input_list)\n",
    "\n",
    "    # convert location columns from dictionary to columns\n",
    "    output = (pd.concat([output, # concatenating the original output column\n",
    "                         output['location'].apply(pd.Series)], # with the dictionary of data from the location column\n",
    "                        axis=1). # concatenating on columns\n",
    "              drop('location',axis = 1)) # dropping the original location column\n",
    "\n",
    "    # convert image_metadata columns from dictionary to columns\n",
    "    output = (pd.concat([output, # concatenating the original output column\n",
    "                         output['image_metadata'].apply(pd.Series)], # with the dictionary of data from the image_metadata column\n",
    "                        axis=1). # concatenating on columns\n",
    "              drop('image_metadata',axis = 1)) # dropping the original image_metadata column\n",
    "    \n",
    "    # returning the output dataframe\n",
    "    return output\n",
    "\n",
    "\n",
    "def get_lta_traffic_camera_data(datetime_call):\n",
    "    '''\n",
    "    This function converts the datetime_call (in the form of a datetime object) to the required format, and then calls the traffic images API\n",
    "    '''\n",
    "    \n",
    "    # formats the datetime_call\n",
    "    datetime_call_formatted = datetime_call.strftime(\"%Y-%m-%d\") + \"T\" + datetime_call.strftime(\"%H\") + \"%3A\" + datetime_call.strftime(\"%M\") + \"%3A00\" \n",
    "    \n",
    "    # getting the api call\n",
    "    api = 'https://api.data.gov.sg/v1/transport/traffic-images?date_time='+ datetime_call_formatted\n",
    "    \n",
    "\n",
    "    # reading the camera data from data.gov.sg\n",
    "    camera_data = ast.literal_eval(requests.get(api).content.decode(\"utf-8\"))[\"items\"][0][\"cameras\"]\n",
    "\n",
    "    # returning the output, converted as a dataframe\n",
    "    return convert_to_dataframe(camera_data)\n",
    "\n",
    "\n",
    "def lta_traffic_camera_scraping(start_datetime, end_datetime, resolution_minute):\n",
    "    '''\n",
    "    This function takes in the start and end datetime as well as the required resolution, and returns a dataframe that contains the API call with links to the traffic images\n",
    "    '''\n",
    "    # calculate number of observations required:\n",
    "    num_obs = (end_datetime - start_datetime) / datetime.timedelta(minutes=resolution_minute)\n",
    "    num_obs = int(np.floor(num_obs)) # converting the num_obst to an integer\n",
    "    \n",
    "    # create a list of datetime to be called inside the API\n",
    "    datetime_list = [start_datetime + datetime.timedelta(minutes=resolution_minute*x) for x in range(num_obs)]\n",
    "    \n",
    "    # convert the datetime list into a tqdm for displaying progress bar\n",
    "    datetime_list_pbar = tqdm(datetime_list)\n",
    "    \n",
    "    # insantiating a dictionary to contain the API calls\n",
    "    output_dict = {}\n",
    "    \n",
    "    # iterating through all the datetime_call from the datetime_list above and calling the api for each of the datetime_call\n",
    "    for datetime_call in datetime_list_pbar:\n",
    "        \n",
    "        # printing out current datetime_call\n",
    "        datetime_list_pbar.set_description(f'Currently scraping: {datetime_call.strftime(\"%Y-%m-%d_%H:%M\")}')\n",
    "\n",
    "        # actual API call\n",
    "        current_output = get_lta_traffic_camera_data(datetime_call) # calling the api on the specified datetime_call\n",
    "        output_dict[datetime_call.strftime(\"%Y-%m-%d_%H:%M\")] = current_output # appending the output dictionary with the current API call\n",
    "        \n",
    "    # CONVERTING THE DICTIONARY TO A DATAFRAME\n",
    "    # converting the output_dict to a long dataframe\n",
    "    output_df = pd.concat(output_dict.values(), axis=0)\n",
    "    \n",
    "    # filtering the columns of the df\n",
    "    output_df = output_df[['timestamp','image','camera_id','md5']]\n",
    "    \n",
    "    # removign the image link prefix (same for all images) in order to save space\n",
    "    image_link_prefix='https://images.data.gov.sg/api/traffic-images/'\n",
    "    output_df['image'] = output_df['image'].str.replace(image_link_prefix,'',regex=False)\n",
    "    \n",
    "    # returns the dataframe\n",
    "    return output_df"
   ]
  },
  {
   "cell_type": "markdown",
   "id": "d77c7487-bcd1-4dfb-aa61-361d26b8793c",
   "metadata": {},
   "source": [
    "# Scraping Image Links"
   ]
  },
  {
   "cell_type": "markdown",
   "id": "3dd99962-1605-4432-beed-c21092605f97",
   "metadata": {},
   "source": [
    "We first need to scrape the image links from the data.gov.sg API. The actual images will be downloaded in the next notebook."
   ]
  },
  {
   "cell_type": "code",
   "execution_count": 3,
   "id": "155decb7-a300-441d-b21d-53b482c77294",
   "metadata": {},
   "outputs": [
    {
     "name": "stderr",
     "output_type": "stream",
     "text": [
      "Currently scraping: 2022-10-01_00:55: 100%|████████████████████████████████████████████| 12/12 [00:03<00:00,  3.16it/s]\n"
     ]
    }
   ],
   "source": [
    "# for this example, we will only be scraping the data for 1 hour on 01/10/2022\n",
    "# the actualdata required for scraping has already been obtained and scraped beforehand\n",
    "\n",
    "# DEFINING THE PARAMETERS FOR SCRAPING\n",
    "start_datetime = datetime.datetime(2022,10,1,0,0,0)\n",
    "end_datetime = datetime.datetime(2022,10,1,1,0,0)\n",
    "resolution_minute = 5\n",
    "\n",
    "df = lta_traffic_camera_scraping(start_datetime=start_datetime,\n",
    "                                 end_datetime=end_datetime,\n",
    "                                 resolution_minute=resolution_minute,\n",
    "                                )"
   ]
  },
  {
   "cell_type": "markdown",
   "id": "48482bd9-2412-466d-a457-f862d969a270",
   "metadata": {},
   "source": [
    "# Saving Scraped Data"
   ]
  },
  {
   "cell_type": "code",
   "execution_count": 4,
   "id": "e0f80cbb-be83-487c-89d3-e5b01ded7e04",
   "metadata": {},
   "outputs": [],
   "source": [
    "# getting the filename for saving the file\n",
    "filename = 'LTA_traffic_cam_' + start_datetime.strftime('%Y%m%d') + '-' + end_datetime.strftime('%Y%m%d') + '.csv'\n",
    "\n",
    "# saving the data\n",
    "df.to_csv(f'../data/{filename}')"
   ]
  }
 ],
 "metadata": {
  "kernelspec": {
   "display_name": "Python 3 (ipykernel)",
   "language": "python",
   "name": "python3"
  },
  "language_info": {
   "codemirror_mode": {
    "name": "ipython",
    "version": 3
   },
   "file_extension": ".py",
   "mimetype": "text/x-python",
   "name": "python",
   "nbconvert_exporter": "python",
   "pygments_lexer": "ipython3",
   "version": "3.9.13"
  }
 },
 "nbformat": 4,
 "nbformat_minor": 5
}
